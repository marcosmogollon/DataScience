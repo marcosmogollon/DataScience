{
  "nbformat": 4,
  "nbformat_minor": 0,
  "metadata": {
    "kernelspec": {
      "display_name": "Python 3",
      "language": "python",
      "name": "python3"
    },
    "language_info": {
      "codemirror_mode": {
        "name": "ipython",
        "version": 3
      },
      "file_extension": ".py",
      "mimetype": "text/x-python",
      "name": "python",
      "nbconvert_exporter": "python",
      "pygments_lexer": "ipython3",
      "version": "3.7.6"
    },
    "colab": {
      "name": "Lab_5_Active_Learning_Class.ipynb",
      "provenance": [],
      "include_colab_link": true
    }
  },
  "cells": [
    {
      "cell_type": "markdown",
      "metadata": {
        "id": "view-in-github",
        "colab_type": "text"
      },
      "source": [
        "<a href=\"https://colab.research.google.com/github/marcosmogollon/DataScience/blob/master/Lab_5_Active_Learning_Class.ipynb\" target=\"_parent\"><img src=\"https://colab.research.google.com/assets/colab-badge.svg\" alt=\"Open In Colab\"/></a>"
      ]
    },
    {
      "cell_type": "code",
      "metadata": {
        "id": "Ke2OyW0kLhQY",
        "colab": {
          "base_uri": "https://localhost:8080/"
        },
        "outputId": "82a9013a-207d-4d20-d965-82339e2e489e"
      },
      "source": [
        "from google.colab import drive\n",
        "drive.mount('/content/gdrive', force_remount=True)"
      ],
      "execution_count": 1,
      "outputs": [
        {
          "output_type": "stream",
          "text": [
            "Mounted at /content/gdrive\n"
          ],
          "name": "stdout"
        }
      ]
    },
    {
      "cell_type": "code",
      "metadata": {
        "id": "pJKb-_PSLhF9"
      },
      "source": [
        "import os \n",
        "\n",
        "root_dir = \"/content/gdrive/My Drive/\"\n",
        "\n",
        "project_folder = \"SCM.256/Lab 5 - Class/\"\n",
        "\n",
        "os.chdir(root_dir + project_folder)"
      ],
      "execution_count": 3,
      "outputs": []
    },
    {
      "cell_type": "markdown",
      "metadata": {
        "id": "FuholCE0KmEn"
      },
      "source": [
        "# Name:"
      ]
    },
    {
      "cell_type": "markdown",
      "metadata": {
        "id": "vTKDHQfLKmEp"
      },
      "source": [
        "### Partner Name: \n",
        "\n",
        "(please include the name of any classmate with whom you worked on this active learning)\n",
        "\n",
        "Submit this assignment to Canvas by the deadline."
      ]
    },
    {
      "cell_type": "markdown",
      "metadata": {
        "id": "s1QMHTucKmEq"
      },
      "source": [
        "# Instructions\n",
        "\n",
        "In this lab, we will use data from the wine dataset. Each record represents a bottle/brand of wine. The features in the dataset describe the chemistry of the wine. The wine is broadly categorized into three categories: 1, 2 and 3.\n",
        "\n",
        "![Wine](https://scm-images-scm.s3.amazonaws.com/wine.png)"
      ]
    },
    {
      "cell_type": "markdown",
      "metadata": {
        "id": "Q2QzoWyhKmEq"
      },
      "source": [
        "**Feel free to use Orange first for any part of this assignment to ensure reasonable results using `wine.csv`.**\n",
        "\n",
        "Fill in the missing code in the cells with this prompt:\n",
        "\n",
        "`# ** Put your solution here **`"
      ]
    },
    {
      "cell_type": "code",
      "metadata": {
        "id": "lGcgSCdmKmEr",
        "colab": {
          "base_uri": "https://localhost:8080/"
        },
        "outputId": "d0ab2687-dca7-4c46-d174-0e49c097293a"
      },
      "source": [
        "import pandas as pd\n",
        "import numpy as np\n",
        "import math as m\n",
        "import matplotlib.pyplot as plt\n",
        "%matplotlib inline  \n",
        "import seaborn as sns\n",
        "from sklearn.preprocessing import StandardScaler\n",
        "from sklearn.decomposition import PCA\n",
        "import sys\n",
        "print(sys.version)"
      ],
      "execution_count": 4,
      "outputs": [
        {
          "output_type": "stream",
          "text": [
            "3.7.10 (default, Feb 20 2021, 21:17:23) \n",
            "[GCC 7.5.0]\n"
          ],
          "name": "stdout"
        }
      ]
    },
    {
      "cell_type": "markdown",
      "metadata": {
        "id": "n3vmGPqBKmEr"
      },
      "source": [
        "Read in the wine dataset from your local machine, `wine.csv`. Look at the top of the dataset to check that it was imported correctly. In this dataset, the **target** variable is last column, `Wine`. "
      ]
    },
    {
      "cell_type": "code",
      "metadata": {
        "id": "0-JWs8lBKmEr"
      },
      "source": [
        "# ** Put your solution here **\n"
      ],
      "execution_count": null,
      "outputs": []
    },
    {
      "cell_type": "markdown",
      "metadata": {
        "id": "W3BhvxbcKmEs"
      },
      "source": [
        "Create a list of the columns names, which we will use to refer to the attributes throughout the script. Next, save the dataset to two variables: `y`, the class/label (target variable), and `X` the remaining features."
      ]
    },
    {
      "cell_type": "code",
      "metadata": {
        "id": "njoqctyBKmEs"
      },
      "source": [
        "# ** Put your solution here **\n"
      ],
      "execution_count": null,
      "outputs": []
    },
    {
      "cell_type": "markdown",
      "metadata": {
        "id": "vQRZjX3jKmEs"
      },
      "source": [
        "## Split dataset into training set and test set\n",
        "Split the data into a training set and a test set using `train_test_split()`. In this example, we'll set the test set to be 20% of the total dataset. Specify any integer value for `random_state` to ensure repeatable results."
      ]
    },
    {
      "cell_type": "code",
      "metadata": {
        "id": "UD0HNs9zKmEs"
      },
      "source": [
        "# ** Put your solution here **\n"
      ],
      "execution_count": null,
      "outputs": []
    },
    {
      "cell_type": "markdown",
      "metadata": {
        "id": "N1RipMZPKmEt"
      },
      "source": [
        "## Fit a decision tree classifier - try to get 100% accuracy for the training dataset, and measure the accuracy for the test dataset.\n",
        "Define a `DecisionTreeClassifier` object with values that you expect will yield a training set accuracy of 100%."
      ]
    },
    {
      "cell_type": "code",
      "metadata": {
        "id": "-d6Re005KmEt"
      },
      "source": [
        "# ** Put your solution here **\n"
      ],
      "execution_count": null,
      "outputs": []
    },
    {
      "cell_type": "markdown",
      "metadata": {
        "id": "qWq7P0QCKmEt"
      },
      "source": [
        "Fit this model using the training data."
      ]
    },
    {
      "cell_type": "code",
      "metadata": {
        "id": "DkoDbre_KmEt"
      },
      "source": [
        "# ** Put your solution here **\n"
      ],
      "execution_count": null,
      "outputs": []
    },
    {
      "cell_type": "markdown",
      "metadata": {
        "id": "CAZkzA-zKmEu"
      },
      "source": [
        "Predict how the fitted tree would classify the training and test sets. Calculate the accuracy of your model for the training set and the test set."
      ]
    },
    {
      "cell_type": "code",
      "metadata": {
        "id": "u85gxVViKmEu"
      },
      "source": [
        "# ** Put your solution here **\n"
      ],
      "execution_count": null,
      "outputs": []
    },
    {
      "cell_type": "markdown",
      "metadata": {
        "id": "V_qFC4wOKmEu"
      },
      "source": [
        "## Visualize your decision tree\n",
        "Visualize your decision tree using `export_graphviz()` and `graphviz`."
      ]
    },
    {
      "cell_type": "code",
      "metadata": {
        "id": "zaHhz8w9KmEu"
      },
      "source": [
        "# ** Put your solution here **\n"
      ],
      "execution_count": null,
      "outputs": []
    },
    {
      "cell_type": "markdown",
      "metadata": {
        "id": "MFf2CEh0KmEu"
      },
      "source": [
        "### Comment on your decision tree using the bullets below:\n",
        "- \n",
        "- "
      ]
    },
    {
      "cell_type": "markdown",
      "metadata": {
        "id": "gwOUT2_xKmEv"
      },
      "source": [
        "## Create a tree with different parameters\n",
        "Inspect the previous tree. Assuming it is overfit, create a new classifier with different parameters values in `DecisionTreeClassifier()` to create a tree that is more generalizable. Fit this model using the training data and use the `predict()` method to compute the training and test accuracy."
      ]
    },
    {
      "cell_type": "code",
      "metadata": {
        "id": "6FhEXOyeKmEv"
      },
      "source": [
        "# ** Put your solution here **\n"
      ],
      "execution_count": null,
      "outputs": []
    },
    {
      "cell_type": "markdown",
      "metadata": {
        "id": "WAZqyJNjKmEv"
      },
      "source": [
        "Visualize the new tree."
      ]
    },
    {
      "cell_type": "code",
      "metadata": {
        "id": "SSVQzn9EKmEv"
      },
      "source": [
        "# ** Put your solution here **\n"
      ],
      "execution_count": null,
      "outputs": []
    },
    {
      "cell_type": "markdown",
      "metadata": {
        "id": "fJFJzn2NKmEw"
      },
      "source": [
        "### Comment on your new decision tree using the bullets below:\n",
        "- \n",
        "- "
      ]
    }
  ]
}